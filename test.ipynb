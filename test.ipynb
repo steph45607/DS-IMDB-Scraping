{
 "cells": [
  {
   "cell_type": "code",
   "execution_count": 1,
   "metadata": {},
   "outputs": [],
   "source": [
    "from bs4 import BeautifulSoup\n",
    "import requests\n",
    "import html5lib\n",
    "import re\n",
    "import pandas as pd"
   ]
  },
  {
   "cell_type": "code",
   "execution_count": 2,
   "metadata": {},
   "outputs": [],
   "source": [
    "response = requests.get('https://www.imdb.com/title/tt3222784/')\n",
    "html_soup = BeautifulSoup(response.text, 'html5lib')\n",
    "episode_containers = html_soup.find_all('div', class_='sc-36c36dd0-6 ewJBXI')\n",
    "other = []\n",
    "\n",
    "names = []\n",
    "for things in episode_containers:\n",
    "    name = things.find_all('div', class_=\"sc-36c36dd0-8 fSYMLK\")\n",
    "    for n in name:\n",
    "        this = n.find('a', class_ = \"sc-36c36dd0-1 QSQgP\").text\n",
    "        names.append(this)\n",
    "\n",
    "# names = pd.DataFrame({\"names\" : names})\n",
    "# names.head()\n",
    "\n",
    "other_data = [names]\n",
    "other.append(other_data)\n",
    "other = pd.DataFrame(other, columns= [\"names\"])\n",
    "other.head()\n",
    "\n",
    "other.to_csv('cast6.csv', index = False)"
   ]
  }
 ],
 "metadata": {
  "kernelspec": {
   "display_name": "Python 3.8.8 ('base')",
   "language": "python",
   "name": "python3"
  },
  "language_info": {
   "codemirror_mode": {
    "name": "ipython",
    "version": 3
   },
   "file_extension": ".py",
   "mimetype": "text/x-python",
   "name": "python",
   "nbconvert_exporter": "python",
   "pygments_lexer": "ipython3",
   "version": "3.8.8"
  },
  "orig_nbformat": 4,
  "vscode": {
   "interpreter": {
    "hash": "a21a4d8430ca198249bdb796151de090f5777c48c0e324da81ff190d429db2a2"
   }
  }
 },
 "nbformat": 4,
 "nbformat_minor": 2
}
